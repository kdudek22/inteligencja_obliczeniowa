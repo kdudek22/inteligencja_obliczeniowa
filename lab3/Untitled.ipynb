{
 "cells": [
  {
   "cell_type": "code",
   "execution_count": 44,
   "id": "64d109e1-25c3-4a90-baf1-698f3598280f",
   "metadata": {},
   "outputs": [],
   "source": [
    "import tensorflow as tf\n",
    "import gymnasium as gym\n",
    "import matplotlib.pyplot as plt\n",
    "import tensorflow.keras as keras\n",
    "from tensorflow.keras import layers, optimizers\n",
    "from collections import deque"
   ]
  },
  {
   "cell_type": "code",
   "execution_count": 16,
   "id": "98db3a9a-1f51-4e66-974b-47603a9ac1de",
   "metadata": {},
   "outputs": [],
   "source": [
    "env = gym.make(\"LunarLander-v2\")\n",
    "obs = env.reset()"
   ]
  },
  {
   "cell_type": "code",
   "execution_count": 22,
   "id": "fe226002-4ba2-417e-8148-5696efc91ae2",
   "metadata": {},
   "outputs": [],
   "source": [
    "states =  env.observation_space.shape[0]\n",
    "actions = env.action_space.n"
   ]
  },
  {
   "cell_type": "code",
   "execution_count": 39,
   "id": "67137a6b-2dfa-4cc5-a88a-a55218271b7c",
   "metadata": {},
   "outputs": [
    {
     "name": "stdout",
     "output_type": "stream",
     "text": [
      "Model: \"sequential_9\"\n",
      "_________________________________________________________________\n",
      " Layer (type)                Output Shape              Param #   \n",
      "=================================================================\n",
      " dense_19 (Dense)            (None, 64)                576       \n",
      "                                                                 \n",
      " dense_20 (Dense)            (None, 64)                4160      \n",
      "                                                                 \n",
      " dense_21 (Dense)            (None, 4)                 260       \n",
      "                                                                 \n",
      "=================================================================\n",
      "Total params: 4,996\n",
      "Trainable params: 4,996\n",
      "Non-trainable params: 0\n",
      "_________________________________________________________________\n"
     ]
    }
   ],
   "source": [
    "def create_model():\n",
    "    model = keras.Sequential([\n",
    "        layers.Input(shape=(states)),\n",
    "        layers.Dense(64, activation=\"relu\"),\n",
    "        layers.Dense(64, activation=\"relu\"),\n",
    "        layers.Dense(actions, activation=\"linear\")\n",
    "    ])\n",
    "    model.compile(optimizers.Adam())\n",
    "    return model\n",
    "\n",
    "model = create_model()\n",
    "model.summary()"
   ]
  },
  {
   "cell_type": "code",
   "execution_count": 46,
   "id": "6788eef3-d146-46c8-a6a2-13588c81797e",
   "metadata": {},
   "outputs": [],
   "source": [
    "def train_weights(model):\n",
    "    memory = []\n",
    "    last_100_scores = deque(maxlen=100)\n",
    "    epsilon = 1.0\n",
    "    acceptable_avg_score_counter = 0\n",
    "\n",
    "    run_episodes()\n",
    "\n",
    "\n",
    "def run_episodes(episodes=100):\n",
    "     for i in range(episodes):\n",
    "            state, info = env.reset()\n",
    "            terminated, truncated = False, False\n",
    "            rewards = 0\n",
    "            while not terminated and not truncated and not rewards < -300:\n",
    "                action = env.action_space.sample()\n",
    "                new_state, reward, terminated, truncated, info = env.step(action)\n",
    "\n",
    "                state = new_state\n",
    "\n",
    "    \n",
    "        \n",
    "train_weights(model)"
   ]
  },
  {
   "cell_type": "code",
   "execution_count": null,
   "id": "f266237c-dd9b-4dc7-aa1b-4c1a3ef4ed6e",
   "metadata": {},
   "outputs": [],
   "source": []
  }
 ],
 "metadata": {
  "kernelspec": {
   "display_name": "Python 3 (ipykernel)",
   "language": "python",
   "name": "python3"
  },
  "language_info": {
   "codemirror_mode": {
    "name": "ipython",
    "version": 3
   },
   "file_extension": ".py",
   "mimetype": "text/x-python",
   "name": "python",
   "nbconvert_exporter": "python",
   "pygments_lexer": "ipython3",
   "version": "3.8.18"
  }
 },
 "nbformat": 4,
 "nbformat_minor": 5
}
